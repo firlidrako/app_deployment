{
 "cells": [
  {
   "cell_type": "code",
   "execution_count": 1,
   "metadata": {
    "colab": {
     "base_uri": "https://localhost:8080/"
    },
    "id": "LBnSstyKBjao",
    "outputId": "d551ae16-e343-4585-ef00-18eae11539aa"
   },
   "outputs": [],
   "source": [
    "from fastai.vision.all import *\n",
    "from fastai.vision.widgets import *"
   ]
  },
  {
   "cell_type": "code",
   "execution_count": 3,
   "metadata": {},
   "outputs": [],
   "source": [
    "import pathlib\n",
    "\n",
    "temp = pathlib.PosixPath\n",
    "pathlib.PosixPath = pathlib.WindowsPath"
   ]
  },
  {
   "cell_type": "code",
   "execution_count": 4,
   "metadata": {
    "id": "hynAB423x-jw"
   },
   "outputs": [],
   "source": [
    "path = Path('export.pkl')\n",
    "learn_inf = load_learner(path)"
   ]
  },
  {
   "cell_type": "code",
   "execution_count": 6,
   "metadata": {
    "id": "LccqUT6sxb9c"
   },
   "outputs": [],
   "source": [
    "btn_upload = widgets.FileUpload()\n",
    "btn_run = widgets.Button(description='Classify')\n",
    "\n",
    "out_pl = widgets.Output()\n",
    "lbl_pred = widgets.Label()"
   ]
  },
  {
   "cell_type": "code",
   "execution_count": 7,
   "metadata": {
    "id": "NRAPbKhgw_0O"
   },
   "outputs": [],
   "source": [
    "def on_click_classify(change):\n",
    "    img = PILImage.create(btn_upload.data[-1])\n",
    "    out_pl.clear_output()\n",
    "    with out_pl: display(img.to_thumb(128,128))\n",
    "    pred,pred_idx,probs = learn_inf.predict(img)\n",
    "    lbl_pred.value = f'Prediction: {pred}; Probability: {probs[pred_idx]:.04f}'\n",
    "\n",
    "btn_run.on_click(on_click_classify)"
   ]
  },
  {
   "cell_type": "code",
   "execution_count": 8,
   "metadata": {
    "colab": {
     "base_uri": "https://localhost:8080/",
     "height": 329,
     "referenced_widgets": [
      "f153705fe50b4cd687d77dd40ce86ced",
      "a2b1c11fdf92408fa1be9521ba1db2cb",
      "345d348dd8494b3f846b4816f9f9add8",
      "72d61435c5114f43ae413eef0a2df78e",
      "66b25a6550f94be8b720cc98945beb63",
      "ca564aab6a0b41c09cf0dcdac4721a0a",
      "febffec190bc47d78f160b01ddf4b29f",
      "04063c46dbee48419d342b0920412094",
      "8eb6e6faa3c9475ca20289fea027d116",
      "d076e243480b481d966b3944a4d3fa9e",
      "553927a1674145e8b1d45e5799986804",
      "1357a74710694a4384e43f488261bb67",
      "141690ea09b0491e9f0c969ca0e96d23",
      "e5cd2caf2d04455f8515c17a5b975456",
      "5cceef78341842edbff05a5641d5bbd4",
      "ef57deb9d703439d8677e0a02fe69eac"
     ]
    },
    "id": "7EuVEvqLxQCG",
    "outputId": "26927065-bcf1-4f50-8102-42005383263a",
    "scrolled": true
   },
   "outputs": [
    {
     "data": {
      "application/vnd.jupyter.widget-view+json": {
       "model_id": "8baf24c14d2a494b92065edaa6557fe0",
       "version_major": 2,
       "version_minor": 0
      },
      "text/plain": [
       "VBox(children=(Label(value='Select your bear!'), FileUpload(value={}, description='Upload'), Button(descriptio…"
      ]
     },
     "metadata": {},
     "output_type": "display_data"
    },
    {
     "data": {
      "text/html": [],
      "text/plain": [
       "<IPython.core.display.HTML object>"
      ]
     },
     "metadata": {},
     "output_type": "display_data"
    },
    {
     "name": "stderr",
     "output_type": "stream",
     "text": [
      "c:\\users\\lenovo\\jupyterenv\\lib\\site-packages\\torch\\nn\\functional.py:718: UserWarning: Named tensors and all their associated APIs are an experimental feature and subject to change. Please do not use them for anything important until they are released as stable. (Triggered internally at  ..\\c10/core/TensorImpl.h:1156.)\n",
      "  return torch.max_pool2d(input, kernel_size, stride, padding, dilation, ceil_mode)\n"
     ]
    }
   ],
   "source": [
    "VBox([widgets.Label('Select your bear!'), \n",
    "      btn_upload, btn_run, out_pl, lbl_pred])"
   ]
  },
  {
   "cell_type": "code",
   "execution_count": null,
   "metadata": {},
   "outputs": [],
   "source": []
  }
 ],
 "metadata": {
  "colab": {
   "collapsed_sections": [],
   "name": "voila_bear.ipynb",
   "provenance": []
  },
  "kernelspec": {
   "display_name": "Python 3 (ipykernel)",
   "language": "python",
   "name": "python3"
  },
  "language_info": {
   "codemirror_mode": {
    "name": "ipython",
    "version": 3
   },
   "file_extension": ".py",
   "mimetype": "text/x-python",
   "name": "python",
   "nbconvert_exporter": "python",
   "pygments_lexer": "ipython3",
   "version": "3.9.2"
  },
  "widgets": {
   "application/vnd.jupyter.widget-state+json": {
    "04063c46dbee48419d342b0920412094": {
     "model_module": "@jupyter-widgets/controls",
     "model_module_version": "1.5.0",
     "model_name": "DescriptionStyleModel",
     "state": {
      "_model_module": "@jupyter-widgets/controls",
      "_model_module_version": "1.5.0",
      "_model_name": "DescriptionStyleModel",
      "_view_count": null,
      "_view_module": "@jupyter-widgets/base",
      "_view_module_version": "1.2.0",
      "_view_name": "StyleView",
      "description_width": ""
     }
    },
    "1357a74710694a4384e43f488261bb67": {
     "model_module": "@jupyter-widgets/controls",
     "model_module_version": "1.5.0",
     "model_name": "ButtonStyleModel",
     "state": {
      "_model_module": "@jupyter-widgets/controls",
      "_model_module_version": "1.5.0",
      "_model_name": "ButtonStyleModel",
      "_view_count": null,
      "_view_module": "@jupyter-widgets/base",
      "_view_module_version": "1.2.0",
      "_view_name": "StyleView",
      "button_color": null,
      "font_weight": ""
     }
    },
    "141690ea09b0491e9f0c969ca0e96d23": {
     "model_module": "@jupyter-widgets/base",
     "model_module_version": "1.2.0",
     "model_name": "LayoutModel",
     "state": {
      "_model_module": "@jupyter-widgets/base",
      "_model_module_version": "1.2.0",
      "_model_name": "LayoutModel",
      "_view_count": null,
      "_view_module": "@jupyter-widgets/base",
      "_view_module_version": "1.2.0",
      "_view_name": "LayoutView",
      "align_content": null,
      "align_items": null,
      "align_self": null,
      "border": null,
      "bottom": null,
      "display": null,
      "flex": null,
      "flex_flow": null,
      "grid_area": null,
      "grid_auto_columns": null,
      "grid_auto_flow": null,
      "grid_auto_rows": null,
      "grid_column": null,
      "grid_gap": null,
      "grid_row": null,
      "grid_template_areas": null,
      "grid_template_columns": null,
      "grid_template_rows": null,
      "height": null,
      "justify_content": null,
      "justify_items": null,
      "left": null,
      "margin": null,
      "max_height": null,
      "max_width": null,
      "min_height": null,
      "min_width": null,
      "object_fit": null,
      "object_position": null,
      "order": null,
      "overflow": null,
      "overflow_x": null,
      "overflow_y": null,
      "padding": null,
      "right": null,
      "top": null,
      "visibility": null,
      "width": null
     }
    },
    "345d348dd8494b3f846b4816f9f9add8": {
     "model_module": "@jupyter-widgets/controls",
     "model_module_version": "1.5.0",
     "model_name": "LabelModel",
     "state": {
      "_dom_classes": [],
      "_model_module": "@jupyter-widgets/controls",
      "_model_module_version": "1.5.0",
      "_model_name": "LabelModel",
      "_view_count": null,
      "_view_module": "@jupyter-widgets/controls",
      "_view_module_version": "1.5.0",
      "_view_name": "LabelView",
      "description": "",
      "description_tooltip": null,
      "layout": "IPY_MODEL_8eb6e6faa3c9475ca20289fea027d116",
      "placeholder": "​",
      "style": "IPY_MODEL_04063c46dbee48419d342b0920412094",
      "value": "Select your bear!"
     }
    },
    "553927a1674145e8b1d45e5799986804": {
     "model_module": "@jupyter-widgets/base",
     "model_module_version": "1.2.0",
     "model_name": "LayoutModel",
     "state": {
      "_model_module": "@jupyter-widgets/base",
      "_model_module_version": "1.2.0",
      "_model_name": "LayoutModel",
      "_view_count": null,
      "_view_module": "@jupyter-widgets/base",
      "_view_module_version": "1.2.0",
      "_view_name": "LayoutView",
      "align_content": null,
      "align_items": null,
      "align_self": null,
      "border": null,
      "bottom": null,
      "display": null,
      "flex": null,
      "flex_flow": null,
      "grid_area": null,
      "grid_auto_columns": null,
      "grid_auto_flow": null,
      "grid_auto_rows": null,
      "grid_column": null,
      "grid_gap": null,
      "grid_row": null,
      "grid_template_areas": null,
      "grid_template_columns": null,
      "grid_template_rows": null,
      "height": null,
      "justify_content": null,
      "justify_items": null,
      "left": null,
      "margin": null,
      "max_height": null,
      "max_width": null,
      "min_height": null,
      "min_width": null,
      "object_fit": null,
      "object_position": null,
      "order": null,
      "overflow": null,
      "overflow_x": null,
      "overflow_y": null,
      "padding": null,
      "right": null,
      "top": null,
      "visibility": null,
      "width": null
     }
    },
    "5cceef78341842edbff05a5641d5bbd4": {
     "model_module": "@jupyter-widgets/base",
     "model_module_version": "1.2.0",
     "model_name": "LayoutModel",
     "state": {
      "_model_module": "@jupyter-widgets/base",
      "_model_module_version": "1.2.0",
      "_model_name": "LayoutModel",
      "_view_count": null,
      "_view_module": "@jupyter-widgets/base",
      "_view_module_version": "1.2.0",
      "_view_name": "LayoutView",
      "align_content": null,
      "align_items": null,
      "align_self": null,
      "border": null,
      "bottom": null,
      "display": null,
      "flex": null,
      "flex_flow": null,
      "grid_area": null,
      "grid_auto_columns": null,
      "grid_auto_flow": null,
      "grid_auto_rows": null,
      "grid_column": null,
      "grid_gap": null,
      "grid_row": null,
      "grid_template_areas": null,
      "grid_template_columns": null,
      "grid_template_rows": null,
      "height": null,
      "justify_content": null,
      "justify_items": null,
      "left": null,
      "margin": null,
      "max_height": null,
      "max_width": null,
      "min_height": null,
      "min_width": null,
      "object_fit": null,
      "object_position": null,
      "order": null,
      "overflow": null,
      "overflow_x": null,
      "overflow_y": null,
      "padding": null,
      "right": null,
      "top": null,
      "visibility": null,
      "width": null
     }
    },
    "66b25a6550f94be8b720cc98945beb63": {
     "model_module": "@jupyter-widgets/controls",
     "model_module_version": "1.5.0",
     "model_name": "ButtonModel",
     "state": {
      "_dom_classes": [],
      "_model_module": "@jupyter-widgets/controls",
      "_model_module_version": "1.5.0",
      "_model_name": "ButtonModel",
      "_view_count": null,
      "_view_module": "@jupyter-widgets/controls",
      "_view_module_version": "1.5.0",
      "_view_name": "ButtonView",
      "button_style": "",
      "description": "Classify",
      "disabled": false,
      "icon": "",
      "layout": "IPY_MODEL_141690ea09b0491e9f0c969ca0e96d23",
      "style": "IPY_MODEL_1357a74710694a4384e43f488261bb67",
      "tooltip": ""
     }
    },
    "72d61435c5114f43ae413eef0a2df78e": {
     "model_module": "@jupyter-widgets/controls",
     "model_module_version": "1.5.0",
     "model_name": "FileUploadModel",
     "state": {
      "_counter": 1,
      "_dom_classes": [],
      "_model_module": "@jupyter-widgets/controls",
      "_model_module_version": "1.5.0",
      "_model_name": "FileUploadModel",
      "_view_count": null,
      "_view_module": "@jupyter-widgets/controls",
      "_view_module_version": "1.5.0",
      "_view_name": "FileUploadView",
      "accept": "",
      "button_style": "",
      "data": [
       null
      ],
      "description": "Upload",
      "description_tooltip": null,
      "disabled": false,
      "error": "",
      "icon": "upload",
      "layout": "IPY_MODEL_553927a1674145e8b1d45e5799986804",
      "metadata": [
       {
        "lastModified": 1629260075122,
        "name": "black bear.jpg",
        "size": 802777,
        "type": "image/jpeg"
       }
      ],
      "multiple": false,
      "style": "IPY_MODEL_d076e243480b481d966b3944a4d3fa9e"
     }
    },
    "8eb6e6faa3c9475ca20289fea027d116": {
     "model_module": "@jupyter-widgets/base",
     "model_module_version": "1.2.0",
     "model_name": "LayoutModel",
     "state": {
      "_model_module": "@jupyter-widgets/base",
      "_model_module_version": "1.2.0",
      "_model_name": "LayoutModel",
      "_view_count": null,
      "_view_module": "@jupyter-widgets/base",
      "_view_module_version": "1.2.0",
      "_view_name": "LayoutView",
      "align_content": null,
      "align_items": null,
      "align_self": null,
      "border": null,
      "bottom": null,
      "display": null,
      "flex": null,
      "flex_flow": null,
      "grid_area": null,
      "grid_auto_columns": null,
      "grid_auto_flow": null,
      "grid_auto_rows": null,
      "grid_column": null,
      "grid_gap": null,
      "grid_row": null,
      "grid_template_areas": null,
      "grid_template_columns": null,
      "grid_template_rows": null,
      "height": null,
      "justify_content": null,
      "justify_items": null,
      "left": null,
      "margin": null,
      "max_height": null,
      "max_width": null,
      "min_height": null,
      "min_width": null,
      "object_fit": null,
      "object_position": null,
      "order": null,
      "overflow": null,
      "overflow_x": null,
      "overflow_y": null,
      "padding": null,
      "right": null,
      "top": null,
      "visibility": null,
      "width": null
     }
    },
    "a2b1c11fdf92408fa1be9521ba1db2cb": {
     "model_module": "@jupyter-widgets/base",
     "model_module_version": "1.2.0",
     "model_name": "LayoutModel",
     "state": {
      "_model_module": "@jupyter-widgets/base",
      "_model_module_version": "1.2.0",
      "_model_name": "LayoutModel",
      "_view_count": null,
      "_view_module": "@jupyter-widgets/base",
      "_view_module_version": "1.2.0",
      "_view_name": "LayoutView",
      "align_content": null,
      "align_items": null,
      "align_self": null,
      "border": null,
      "bottom": null,
      "display": null,
      "flex": null,
      "flex_flow": null,
      "grid_area": null,
      "grid_auto_columns": null,
      "grid_auto_flow": null,
      "grid_auto_rows": null,
      "grid_column": null,
      "grid_gap": null,
      "grid_row": null,
      "grid_template_areas": null,
      "grid_template_columns": null,
      "grid_template_rows": null,
      "height": null,
      "justify_content": null,
      "justify_items": null,
      "left": null,
      "margin": null,
      "max_height": null,
      "max_width": null,
      "min_height": null,
      "min_width": null,
      "object_fit": null,
      "object_position": null,
      "order": null,
      "overflow": null,
      "overflow_x": null,
      "overflow_y": null,
      "padding": null,
      "right": null,
      "top": null,
      "visibility": null,
      "width": null
     }
    },
    "ca564aab6a0b41c09cf0dcdac4721a0a": {
     "model_module": "@jupyter-widgets/output",
     "model_module_version": "1.0.0",
     "model_name": "OutputModel",
     "state": {
      "_dom_classes": [],
      "_model_module": "@jupyter-widgets/output",
      "_model_module_version": "1.0.0",
      "_model_name": "OutputModel",
      "_view_count": null,
      "_view_module": "@jupyter-widgets/output",
      "_view_module_version": "1.0.0",
      "_view_name": "OutputView",
      "layout": "IPY_MODEL_ef57deb9d703439d8677e0a02fe69eac",
      "msg_id": "",
      "outputs": [
       {
        "data": {
         "image/png": "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\n",
         "text/plain": [
          "<PIL.Image.Image image mode=RGB size=85x128 at 0x7F5189AFE210>"
         ]
        },
        "metadata": {},
        "output_type": "display_data"
       }
      ]
     }
    },
    "d076e243480b481d966b3944a4d3fa9e": {
     "model_module": "@jupyter-widgets/controls",
     "model_module_version": "1.5.0",
     "model_name": "ButtonStyleModel",
     "state": {
      "_model_module": "@jupyter-widgets/controls",
      "_model_module_version": "1.5.0",
      "_model_name": "ButtonStyleModel",
      "_view_count": null,
      "_view_module": "@jupyter-widgets/base",
      "_view_module_version": "1.2.0",
      "_view_name": "StyleView",
      "button_color": null,
      "font_weight": ""
     }
    },
    "e5cd2caf2d04455f8515c17a5b975456": {
     "model_module": "@jupyter-widgets/controls",
     "model_module_version": "1.5.0",
     "model_name": "DescriptionStyleModel",
     "state": {
      "_model_module": "@jupyter-widgets/controls",
      "_model_module_version": "1.5.0",
      "_model_name": "DescriptionStyleModel",
      "_view_count": null,
      "_view_module": "@jupyter-widgets/base",
      "_view_module_version": "1.2.0",
      "_view_name": "StyleView",
      "description_width": ""
     }
    },
    "ef57deb9d703439d8677e0a02fe69eac": {
     "model_module": "@jupyter-widgets/base",
     "model_module_version": "1.2.0",
     "model_name": "LayoutModel",
     "state": {
      "_model_module": "@jupyter-widgets/base",
      "_model_module_version": "1.2.0",
      "_model_name": "LayoutModel",
      "_view_count": null,
      "_view_module": "@jupyter-widgets/base",
      "_view_module_version": "1.2.0",
      "_view_name": "LayoutView",
      "align_content": null,
      "align_items": null,
      "align_self": null,
      "border": null,
      "bottom": null,
      "display": null,
      "flex": null,
      "flex_flow": null,
      "grid_area": null,
      "grid_auto_columns": null,
      "grid_auto_flow": null,
      "grid_auto_rows": null,
      "grid_column": null,
      "grid_gap": null,
      "grid_row": null,
      "grid_template_areas": null,
      "grid_template_columns": null,
      "grid_template_rows": null,
      "height": null,
      "justify_content": null,
      "justify_items": null,
      "left": null,
      "margin": null,
      "max_height": null,
      "max_width": null,
      "min_height": null,
      "min_width": null,
      "object_fit": null,
      "object_position": null,
      "order": null,
      "overflow": null,
      "overflow_x": null,
      "overflow_y": null,
      "padding": null,
      "right": null,
      "top": null,
      "visibility": null,
      "width": null
     }
    },
    "f153705fe50b4cd687d77dd40ce86ced": {
     "model_module": "@jupyter-widgets/controls",
     "model_module_version": "1.5.0",
     "model_name": "VBoxModel",
     "state": {
      "_dom_classes": [],
      "_model_module": "@jupyter-widgets/controls",
      "_model_module_version": "1.5.0",
      "_model_name": "VBoxModel",
      "_view_count": null,
      "_view_module": "@jupyter-widgets/controls",
      "_view_module_version": "1.5.0",
      "_view_name": "VBoxView",
      "box_style": "",
      "children": [
       "IPY_MODEL_345d348dd8494b3f846b4816f9f9add8",
       "IPY_MODEL_72d61435c5114f43ae413eef0a2df78e",
       "IPY_MODEL_66b25a6550f94be8b720cc98945beb63",
       "IPY_MODEL_ca564aab6a0b41c09cf0dcdac4721a0a",
       "IPY_MODEL_febffec190bc47d78f160b01ddf4b29f"
      ],
      "layout": "IPY_MODEL_a2b1c11fdf92408fa1be9521ba1db2cb"
     }
    },
    "febffec190bc47d78f160b01ddf4b29f": {
     "model_module": "@jupyter-widgets/controls",
     "model_module_version": "1.5.0",
     "model_name": "LabelModel",
     "state": {
      "_dom_classes": [],
      "_model_module": "@jupyter-widgets/controls",
      "_model_module_version": "1.5.0",
      "_model_name": "LabelModel",
      "_view_count": null,
      "_view_module": "@jupyter-widgets/controls",
      "_view_module_version": "1.5.0",
      "_view_name": "LabelView",
      "description": "",
      "description_tooltip": null,
      "layout": "IPY_MODEL_5cceef78341842edbff05a5641d5bbd4",
      "placeholder": "​",
      "style": "IPY_MODEL_e5cd2caf2d04455f8515c17a5b975456",
      "value": "Prediction: black; Probability: 0.9939"
     }
    }
   }
  }
 },
 "nbformat": 4,
 "nbformat_minor": 4
}
